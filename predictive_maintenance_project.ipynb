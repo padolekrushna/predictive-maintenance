{
  "nbformat": 4,
  "nbformat_minor": 0,
  "metadata": {
    "colab": {
      "provenance": [],
      "authorship_tag": "ABX9TyNHCMCBNwbA/8KA2x4P4N9G",
      "include_colab_link": true
    },
    "kernelspec": {
      "name": "python3",
      "display_name": "Python 3"
    },
    "language_info": {
      "name": "python"
    }
  },
  "cells": [
    {
      "cell_type": "markdown",
      "metadata": {
        "id": "view-in-github",
        "colab_type": "text"
      },
      "source": [
        "<a href=\"https://colab.research.google.com/github/padolekrushna/predictive-maintenance/blob/main/predictive_maintenance_project.ipynb\" target=\"_parent\"><img src=\"https://colab.research.google.com/assets/colab-badge.svg\" alt=\"Open In Colab\"/></a>"
      ]
    },
    {
      "cell_type": "markdown",
      "source": [
        "# Predictive Maintenance by Krushna Padole\n",
        "\n",
        "\n",
        "## Data Set Information:\n",
        "\n",
        "Since real predictive maintenance datasets are generally difficult to obtain and in particular difficult to publish, we present and provide a synthetic dataset that reflects real predictive maintenance encountered in industry to the best of our knowledge.\n",
        "\n",
        "## Attribute Information:\n",
        "\n",
        "The dataset consists of 10 000 data points stored as rows with 14 features in columns\n",
        "\n",
        "\n",
        "UID: unique identifier ranging from 1 to 10000\n",
        "\n",
        "product ID: consisting of a letter L, M, or H for low (50% of all products), medium (30%) and high (20%) as\n",
        "\n",
        "product quality variants and a variant-specific serial number\n",
        "\n",
        "air temperature [K]: generated using a random walk process later normalized to a standard deviation of 2 K around 300 K\n",
        "\n",
        "process temperature [K]: generated using a random walk process normalized to a standard deviation of 1 K, added to the air temperature plus 10 K.\n",
        "\n",
        "rotational speed [rpm]: calculated from a power of 2860 W, overlaid with a normally distributed noise\n",
        "\n",
        "torque [Nm]: torque values are normally distributed around 40 Nm with a Ïƒ = 10 Nm and no negative values.\n",
        "\n",
        "tool wear [min]: The quality variants H/M/L add 5/3/2 minutes of tool wear to the used tool in the process. and a 'machine failure' label that indicates, whether the machine has failed in this particular datapoint for any of the following failure modes are true.\n",
        "\n",
        "### The machine failure consists of five independent failure modes\n",
        "\n",
        "tool wear failure (TWF): the tool will be replaced of fail at a randomly selected tool wear time between 200 â€“ 240 mins (120 times in our dataset). At this point in time, the tool is replaced 69 times, and fails 51 times (randomly assigned).\n",
        "\n",
        "heat dissipation failure (HDF): heat dissipation causes a process failure, if the difference between air- and process temperature is below 8.6 K and the tool's rotational speed is below 1380 rpm. This is the case for 115 data points.\n",
        "\n",
        "power failure (PWF): the product of torque and rotational speed (in rad/s) equals the power required for the process. If this power is below 3500 W or above 9000 W, the process fails, which is the case 95 times in our dataset.\n",
        "\n",
        "overstrain failure (OSF): if the product of tool wear and torque exceeds 11,000 minNm for the L product variant (12,000 M, 13,000 H), the process fails due to overstrain. This is true for 98 datapoints.\n",
        "\n",
        "random failures (RNF): each process has a chance of 0,1 % to fail regardless of its process parameters. This is the case for only 5 datapoints, less than could be expected for 10,000 datapoints in our dataset.\n",
        "\n",
        "If at least one of the above failure modes is true, the process fails and the 'machine failure' label is set to 1. It is therefore not transparent to the machine learning method, which of the failure modes has caused the process to fail"
      ],
      "metadata": {
        "id": "kO1N6jFp2N4W"
      }
    },
    {
      "cell_type": "code",
      "source": [],
      "metadata": {
        "id": "C9U_4UjO2Soi"
      },
      "execution_count": null,
      "outputs": []
    }
  ]
}